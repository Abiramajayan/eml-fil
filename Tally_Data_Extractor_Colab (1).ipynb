
{
 "cells": [
  {
   "cell_type": "markdown",
   "metadata": {},
   "source": [
    "# 📊 Tally Data Extractor (ERP9 / TallyPrime)\n",
    "This notebook extracts voucher, ledger, and inventory data from a `.zip` Tally company backup.\n",
    "\n",
    "🔧 Powered by: [tally-data-extractor](https://pypi.org/project/tally-data-extractor)"
   ]
  },
  {
   "cell_type": "code",
   "execution_count": null,
   "metadata": {},
   "outputs": [],
   "source": [
    "# Step 1: Install the extractor tool\n",
    "!pip install tally-data-extractor"
   ]
  },
  {
   "cell_type": "code",
   "execution_count": null,
   "metadata": {},
   "outputs": [],
   "source": [
    "# Step 2: Upload your Tally ZIP file (010002.zip or similar)\n",
    "from google.colab import files\n",
    "uploaded = files.upload()"
   ]
  },
  {
   "cell_type": "code",
   "execution_count": null,
   "metadata": {},
   "outputs": [],
   "source": [
    "# Step 3: Unzip the uploaded file\n",
    "import zipfile, os\n",
    "for fn in uploaded.keys():\n",
    "    with zipfile.ZipFile(fn, 'r') as zip_ref:\n",
    "        zip_ref.extractall(\"tallydata\")\n",
    "os.listdir(\"tallydata\")"
   ]
  },
  {
   "cell_type": "code",
   "execution_count": null,
   "metadata": {},
   "outputs": [],
   "source": [
    "# Step 4: Run the extractor\n",
    "import os\n",
    "!tde pull tallydata --out data.sqlite"
   ]
  },
  {
   "cell_type": "code",
   "execution_count": null,
   "metadata": {},
   "outputs": [],
   "source": [
    "# Step 5: Convert to CSVs\n",
    "!mkdir extracted_csv\n",
    "!tde csv data.sqlite --dest extracted_csv"
   ]
  },
  {
   "cell_type": "code",
   "execution_count": null,
   "metadata": {},
   "outputs": [],
   "source": [
    "# Step 6: Zip the results and download\n",
    "!zip -r extracted_csv.zip extracted_csv\n",
    "from google.colab import files\n",
    "files.download('extracted_csv.zip')"
   ]
  }
 ],
 "metadata": {
  "kernelspec": {
   "display_name": "Python 3",
   "language": "python",
   "name": "python3"
  },
  "language_info": {
   "name": "python",
   "version": ""
  }
 },
 "nbformat": 4,
 "nbformat_minor": 2
}
